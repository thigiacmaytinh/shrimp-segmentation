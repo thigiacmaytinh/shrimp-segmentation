{
 "cells": [
  {
   "cell_type": "markdown",
   "metadata": {},
   "source": [
    "# Test with pretrain model"
   ]
  },
  {
   "cell_type": "code",
   "execution_count": 4,
   "metadata": {},
   "outputs": [
    {
     "name": "stdout",
     "output_type": "stream",
     "text": [
      "WARNING  'boxes' is deprecated and will be removed in in the future. Please use 'show_boxes' instead.\n",
      "\n",
      "image 1/1 C:\\Users\\z230\\Downloads\\B1D3K+VdnWL.png: 384x640 7 cats, 13.0ms\n",
      "Speed: 3.0ms preprocess, 13.0ms inference, 3.0ms postprocess per image at shape (1, 3, 384, 640)\n"
     ]
    },
    {
     "data": {
      "text/plain": [
       "'cats.jpg'"
      ]
     },
     "execution_count": 4,
     "metadata": {},
     "output_type": "execute_result"
    }
   ],
   "source": [
    "from ultralytics import YOLO\n",
    "\n",
    "# Load a model\n",
    "model = YOLO(\"yolov8n-seg.pt\")  # load an official model\n",
    "\n",
    "# Predict with the model\n",
    "results = model(r\"C:\\Users\\z230\\Downloads\\B1D3K+VdnWL.png\", show_boxes=False)  # predict on an image\n",
    "results[0].save('cats.jpg')"
   ]
  },
  {
   "cell_type": "code",
   "execution_count": 9,
   "metadata": {},
   "outputs": [
    {
     "name": "stdout",
     "output_type": "stream",
     "text": [
      "Ultralytics YOLOv8.2.79  Python-3.8.0 torch-2.2.1+cu118 CPU (Intel Core(TM) i5-4590 3.30GHz)\n",
      "\n",
      "\u001b[34m\u001b[1mPyTorch:\u001b[0m starting from 'yolov8n-seg.pt' with input shape (1, 3, 640, 640) BCHW and output shape(s) ((1, 116, 8400), (1, 32, 160, 160)) (6.7 MB)\n",
      "\n",
      "\u001b[34m\u001b[1mONNX:\u001b[0m starting export with onnx 1.16.1 opset 12...\n",
      "\u001b[34m\u001b[1mONNX:\u001b[0m export success  1.2s, saved as 'yolov8n-seg.onnx' (13.2 MB)\n",
      "\n",
      "Export complete (3.3s)\n",
      "Results saved to \u001b[1mD:\\Hung\\Projects\\GitHub\\ultralytics\u001b[0m\n",
      "Predict:         yolo predict task=segment model=yolov8n-seg.onnx imgsz=640  \n",
      "Validate:        yolo val task=segment model=yolov8n-seg.onnx imgsz=640 data=coco.yaml  \n",
      "Visualize:       https://netron.app\n"
     ]
    },
    {
     "data": {
      "text/plain": [
       "'yolov8n-seg.onnx'"
      ]
     },
     "execution_count": 9,
     "metadata": {},
     "output_type": "execute_result"
    }
   ],
   "source": [
    "# Export the model\n",
    "model.export(format=\"onnx\", opset=12)"
   ]
  },
  {
   "cell_type": "markdown",
   "metadata": {},
   "source": [
    "# Download coco2017 dataset"
   ]
  },
  {
   "cell_type": "code",
   "execution_count": 10,
   "metadata": {},
   "outputs": [
    {
     "name": "stderr",
     "output_type": "stream",
     "text": [
      "***Python 3.8 Deprecation Notice***\n",
      "Python 3.8 will no longer be supported in new releases after October 1, 2024.\n",
      "Please upgrade to Python 3.9 or later.\n",
      "For additional details please see https://deprecation.voxel51.com\n"
     ]
    },
    {
     "name": "stdout",
     "output_type": "stream",
     "text": [
      "Downloading split 'train' to 'C:\\Users\\z230\\fiftyone\\coco-2017\\train' if necessary\n",
      "Found annotations at 'C:\\Users\\z230\\fiftyone\\coco-2017\\raw\\instances_train2017.json'\n",
      "Sufficient images already downloaded\n",
      "Existing download of split 'train' is sufficient\n",
      "Downloading split 'validation' to 'C:\\Users\\z230\\fiftyone\\coco-2017\\validation' if necessary\n",
      "Found annotations at 'C:\\Users\\z230\\fiftyone\\coco-2017\\raw\\instances_val2017.json'\n",
      "Sufficient images already downloaded\n",
      "Existing download of split 'validation' is sufficient\n",
      "Downloading split 'test' to 'C:\\Users\\z230\\fiftyone\\coco-2017\\test' if necessary\n",
      "Found test info at 'C:\\Users\\z230\\fiftyone\\coco-2017\\raw\\image_info_test2017.json'\n",
      "Sufficient images already downloaded\n",
      "Existing download of split 'test' is sufficient\n",
      "Loading existing dataset 'coco-2017-train-validation-test-3000'. To reload from disk, either delete the existing dataset or provide a custom `dataset_name` to use\n"
     ]
    }
   ],
   "source": [
    "import fiftyone\n",
    "dataset = fiftyone.zoo.load_zoo_dataset(\n",
    "    \"coco-2017\",\n",
    "    splits=[\"train\", \"validation\", \"test\"],\n",
    "    label_types=[\"detections\", \"segmentations\"],\n",
    "    max_samples=3000,\n",
    "    # overwrite=True,\n",
    ")"
   ]
  },
  {
   "cell_type": "markdown",
   "metadata": {},
   "source": [
    "## Convert from coco format to yolov8-seg format"
   ]
  },
  {
   "cell_type": "code",
   "execution_count": 2,
   "metadata": {},
   "outputs": [
    {
     "name": "stdout",
     "output_type": "stream",
     "text": [
      "Skipping annotation 901600002142, segmentation format not supported.\n",
      "Skipping annotation 900100006074, segmentation format not supported.\n",
      "Skipping annotation 900100014278, segmentation format not supported.\n",
      "Skipping annotation 900100014450, segmentation format not supported.\n",
      "Skipping annotation 908800014504, segmentation format not supported.\n",
      "Skipping annotation 905500000715, segmentation format not supported.\n",
      "Skipping annotation 905500009077, segmentation format not supported.\n",
      "Skipping annotation 900100006580, segmentation format not supported.\n",
      "Skipping annotation 903800005502, segmentation format not supported.\n",
      "Skipping annotation 903800005599, segmentation format not supported.\n",
      "Skipping annotation 901600009041, segmentation format not supported.\n",
      "Skipping annotation 902000002164, segmentation format not supported.\n",
      "Skipping annotation 905200010432, segmentation format not supported.\n",
      "Skipping annotation 900100007115, segmentation format not supported.\n",
      "Skipping annotation 900100007260, segmentation format not supported.\n",
      "Skipping annotation 900900013420, segmentation format not supported.\n",
      "Skipping annotation 904200005476, segmentation format not supported.\n",
      "Skipping annotation 906000007107, segmentation format not supported.\n",
      "Skipping annotation 900100008119, segmentation format not supported.\n",
      "Skipping annotation 900100008204, segmentation format not supported.\n",
      "Skipping annotation 900100000257, segmentation format not supported.\n",
      "Skipping annotation 900100000357, segmentation format not supported.\n",
      "Skipping annotation 900100008589, segmentation format not supported.\n",
      "Skipping annotation 900100000544, segmentation format not supported.\n",
      "Skipping annotation 902800001840, segmentation format not supported.\n",
      "Skipping annotation 902000003947, segmentation format not supported.\n",
      "Skipping annotation 903800007556, segmentation format not supported.\n",
      "Skipping annotation 900100000764, segmentation format not supported.\n",
      "Skipping annotation 903200009420, segmentation format not supported.\n",
      "Skipping annotation 900100000985, segmentation format not supported.\n",
      "Skipping annotation 903800007899, segmentation format not supported.\n",
      "Skipping annotation 900100001176, segmentation format not supported.\n",
      "Skipping annotation 908400012700, segmentation format not supported.\n",
      "Skipping annotation 900100009420, segmentation format not supported.\n",
      "Skipping annotation 906100002525, segmentation format not supported.\n",
      "Skipping annotation 900100001599, segmentation format not supported.\n",
      "Skipping annotation 900100010216, segmentation format not supported.\n",
      "Skipping annotation 906200000564, segmentation format not supported.\n",
      "Skipping annotation 900100002124, segmentation format not supported.\n",
      "Skipping annotation 900100010442, segmentation format not supported.\n",
      "Skipping annotation 905800004108, segmentation format not supported.\n",
      "Skipping annotation 900100002562, segmentation format not supported.\n",
      "Skipping annotation 900900002690, segmentation format not supported.\n",
      "Skipping annotation 900100010591, segmentation format not supported.\n",
      "Skipping annotation 900100010644, segmentation format not supported.\n",
      "Skipping annotation 908400013985, segmentation format not supported.\n",
      "Skipping annotation 900100011320, segmentation format not supported.\n",
      "Skipping annotation 900300010837, segmentation format not supported.\n",
      "Skipping annotation 908400014713, segmentation format not supported.\n",
      "Skipping annotation 902800012706, segmentation format not supported.\n",
      "Skipping annotation 902000007414, segmentation format not supported.\n",
      "Skipping annotation 900100011494, segmentation format not supported.\n",
      "Skipping annotation 900100003378, segmentation format not supported.\n",
      "Skipping annotation 904400008876, segmentation format not supported.\n",
      "Skipping annotation 903100012269, segmentation format not supported.\n",
      "Skipping annotation 900100012333, segmentation format not supported.\n",
      "Skipping annotation 902800007444, segmentation format not supported.\n",
      "Skipping annotation 906200004592, segmentation format not supported.\n",
      "Skipping annotation 900100003837, segmentation format not supported.\n",
      "Skipping annotation 900100003983, segmentation format not supported.\n",
      "Skipping annotation 900100012236, segmentation format not supported.\n",
      "Skipping annotation 900100004175, segmentation format not supported.\n",
      "Skipping annotation 900300011887, segmentation format not supported.\n",
      "Skipping annotation 900100004211, segmentation format not supported.\n",
      "Skipping annotation 900100004375, segmentation format not supported.\n",
      "Skipping annotation 900100012666, segmentation format not supported.\n",
      "Skipping annotation 900100012706, segmentation format not supported.\n",
      "Skipping annotation 900100004576, segmentation format not supported.\n",
      "Skipping annotation 900100004592, segmentation format not supported.\n",
      "Skipping annotation 900100012818, segmentation format not supported.\n",
      "Skipping annotation 900100012881, segmentation format not supported.\n",
      "Skipping annotation 900100004700, segmentation format not supported.\n",
      "Skipping annotation 900100012946, segmentation format not supported.\n",
      "Skipping annotation 905300007913, segmentation format not supported.\n",
      "Skipping annotation 900100013296, segmentation format not supported.\n",
      "Skipping annotation 900300012818, segmentation format not supported.\n",
      "Skipping annotation 900300004700, segmentation format not supported.\n",
      "Skipping annotation 900100005476, segmentation format not supported.\n",
      "Skipping annotation 902800007115, segmentation format not supported.\n",
      "Skipping annotation 900100005599, segmentation format not supported.\n",
      "Skipping annotation 900100005601, segmentation format not supported.\n",
      "Skipping annotation 903800004551, segmentation format not supported.\n",
      "Skipping annotation 900100014056, segmentation format not supported.\n",
      "Skipping annotation 906400006216, segmentation format not supported.\n",
      "Skipping annotation 905500000670, segmentation format not supported.\n",
      "Skipping annotation 908400001681, segmentation format not supported.\n",
      "Skipping annotation 905500000984, segmentation format not supported.\n",
      "Skipping annotation 905200010784, segmentation format not supported.\n",
      "Skipping annotation 908400002608, segmentation format not supported.\n",
      "Skipping annotation 908400002691, segmentation format not supported.\n",
      "Skipping annotation 905200011041, segmentation format not supported.\n",
      "Skipping annotation 900200008025, segmentation format not supported.\n",
      "Skipping annotation 900100000149, segmentation format not supported.\n",
      "Skipping annotation 900100000315, segmentation format not supported.\n",
      "Skipping annotation 908400003877, segmentation format not supported.\n",
      "Skipping annotation 900100001350, segmentation format not supported.\n",
      "Skipping annotation 908400004694, segmentation format not supported.\n",
      "Skipping annotation 900100003804, segmentation format not supported.\n",
      "Skipping annotation 908400005028, segmentation format not supported.\n",
      "Skipping annotation 900100001756, segmentation format not supported.\n",
      "Skipping annotation 900100001764, segmentation format not supported.\n",
      "Skipping annotation 900100001785, segmentation format not supported.\n",
      "Skipping annotation 908400005115, segmentation format not supported.\n",
      "Skipping annotation 908400005219, segmentation format not supported.\n",
      "Skipping annotation 900100001941, segmentation format not supported.\n",
      "Skipping annotation 901500014938, segmentation format not supported.\n",
      "Skipping annotation 900100002377, segmentation format not supported.\n",
      "Skipping annotation 900100002560, segmentation format not supported.\n",
      "Skipping annotation 900100002614, segmentation format not supported.\n",
      "Skipping annotation 900100002644, segmentation format not supported.\n",
      "Skipping annotation 900100002664, segmentation format not supported.\n",
      "Skipping annotation 900100002842, segmentation format not supported.\n",
      "Skipping annotation 905500005483, segmentation format not supported.\n",
      "Skipping annotation 900100003124, segmentation format not supported.\n",
      "Skipping annotation 900100003220, segmentation format not supported.\n",
      "Skipping annotation 900100003461, segmentation format not supported.\n",
      "Skipping annotation 900100003579, segmentation format not supported.\n",
      "Skipping annotation 904700008429, segmentation format not supported.\n",
      "Skipping annotation 900100004172, segmentation format not supported.\n",
      "Skipping annotation 900100004201, segmentation format not supported.\n",
      "Skipping annotation 903800002963, segmentation format not supported.\n",
      "Skipping annotation 900100004259, segmentation format not supported.\n",
      "Skipping annotation 900100004376, segmentation format not supported.\n",
      "Skipping annotation 900100004478, segmentation format not supported.\n",
      "Skipping annotation 907300002244, segmentation format not supported.\n",
      "Skipping annotation 900100004555, segmentation format not supported.\n",
      "Skipping annotation 903100013417, segmentation format not supported.\n",
      "Skipping annotation 900100005073, segmentation format not supported.\n",
      "Skipping annotation 900100005313, segmentation format not supported.\n",
      "Skipping annotation 900100005376, segmentation format not supported.\n",
      "Skipping annotation 900100005459, segmentation format not supported.\n",
      "Skipping annotation 900100005505, segmentation format not supported.\n",
      "Skipping annotation 900100005587, segmentation format not supported.\n",
      "Skipping annotation 900100005608, segmentation format not supported.\n",
      "Skipping annotation 902800005756, segmentation format not supported.\n",
      "Skipping annotation 900100005688, segmentation format not supported.\n",
      "Skipping annotation 900100005699, segmentation format not supported.\n",
      "Skipping annotation 902800000315, segmentation format not supported.\n",
      "Skipping annotation 900100005756, segmentation format not supported.\n",
      "Skipping annotation 900100005915, segmentation format not supported.\n",
      "Skipping annotation 900100005917, segmentation format not supported.\n",
      "Skipping annotation 900100006075, segmentation format not supported.\n",
      "Skipping annotation 900100006101, segmentation format not supported.\n",
      "Skipping annotation 900100006233, segmentation format not supported.\n",
      "Skipping annotation 904700010881, segmentation format not supported.\n",
      "Skipping annotation 900100006293, segmentation format not supported.\n",
      "Skipping annotation 900100006539, segmentation format not supported.\n",
      "Skipping annotation 900100006602, segmentation format not supported.\n",
      "Skipping annotation 900100006710, segmentation format not supported.\n",
      "Skipping annotation 900100006780, segmentation format not supported.\n",
      "Skipping annotation 908400010136, segmentation format not supported.\n",
      "Skipping annotation 900100006935, segmentation format not supported.\n",
      "Skipping annotation 900100006957, segmentation format not supported.\n",
      "Skipping annotation 900100006998, segmentation format not supported.\n",
      "Skipping annotation 900900005237, segmentation format not supported.\n",
      "Skipping annotation 900100007685, segmentation format not supported.\n",
      "Skipping annotation 900100008025, segmentation format not supported.\n",
      "Skipping annotation 900100008063, segmentation format not supported.\n",
      "Skipping annotation 903800006998, segmentation format not supported.\n",
      "Skipping annotation 901000014290, segmentation format not supported.\n",
      "Skipping annotation 900100008429, segmentation format not supported.\n",
      "Skipping annotation 900100008432, segmentation format not supported.\n",
      "Skipping annotation 900100008494, segmentation format not supported.\n",
      "Skipping annotation 900100008519, segmentation format not supported.\n",
      "Skipping annotation 900100008677, segmentation format not supported.\n",
      "Skipping annotation 900100008746, segmentation format not supported.\n",
      "Skipping annotation 900100008896, segmentation format not supported.\n",
      "Skipping annotation 900100008979, segmentation format not supported.\n",
      "Skipping annotation 900900007035, segmentation format not supported.\n",
      "Skipping annotation 906200001756, segmentation format not supported.\n",
      "Skipping annotation 905400003870, segmentation format not supported.\n",
      "Skipping annotation 900900007455, segmentation format not supported.\n",
      "Skipping annotation 904700014337, segmentation format not supported.\n",
      "Skipping annotation 900100009878, segmentation format not supported.\n",
      "Skipping annotation 900100009910, segmentation format not supported.\n",
      "Skipping annotation 900100009929, segmentation format not supported.\n",
      "Skipping annotation 900100009990, segmentation format not supported.\n",
      "Skipping annotation 900100010230, segmentation format not supported.\n",
      "Skipping annotation 906200002842, segmentation format not supported.\n",
      "Skipping annotation 900100010281, segmentation format not supported.\n",
      "Skipping annotation 900100010318, segmentation format not supported.\n",
      "Skipping annotation 900100010321, segmentation format not supported.\n",
      "Skipping annotation 908400013650, segmentation format not supported.\n",
      "Skipping annotation 900100010545, segmentation format not supported.\n",
      "Skipping annotation 900100010639, segmentation format not supported.\n",
      "Skipping annotation 900100010701, segmentation format not supported.\n",
      "Skipping annotation 900100010711, segmentation format not supported.\n",
      "Skipping annotation 900100011041, segmentation format not supported.\n",
      "Skipping annotation 900100011107, segmentation format not supported.\n",
      "Skipping annotation 908400014446, segmentation format not supported.\n",
      "Skipping annotation 900100011233, segmentation format not supported.\n",
      "Skipping annotation 900100011265, segmentation format not supported.\n",
      "Skipping annotation 900100011288, segmentation format not supported.\n",
      "Skipping annotation 903700002184, segmentation format not supported.\n",
      "Skipping annotation 900100011461, segmentation format not supported.\n",
      "Skipping annotation 903800010281, segmentation format not supported.\n",
      "Skipping annotation 900100011613, segmentation format not supported.\n",
      "Skipping annotation 905100011990, segmentation format not supported.\n",
      "Skipping annotation 900100012233, segmentation format not supported.\n",
      "Skipping annotation 900100012497, segmentation format not supported.\n",
      "Skipping annotation 900100012650, segmentation format not supported.\n",
      "Skipping annotation 900100012810, segmentation format not supported.\n",
      "Skipping annotation 900100013020, segmentation format not supported.\n",
      "Skipping annotation 900100013230, segmentation format not supported.\n",
      "Skipping annotation 900100013249, segmentation format not supported.\n",
      "Skipping annotation 900100013285, segmentation format not supported.\n",
      "Skipping annotation 900100013364, segmentation format not supported.\n",
      "Skipping annotation 906200014798, segmentation format not supported.\n",
      "Skipping annotation 903300005689, segmentation format not supported.\n",
      "Skipping annotation 901600001912, segmentation format not supported.\n",
      "Skipping annotation 900400002377, segmentation format not supported.\n",
      "Skipping annotation 900100014159, segmentation format not supported.\n",
      "Skipping annotation 900100014219, segmentation format not supported.\n",
      "Skipping annotation 900100014230, segmentation format not supported.\n",
      "Skipping annotation 902000001381, segmentation format not supported.\n",
      "Skipping annotation 900100014477, segmentation format not supported.\n",
      "Skipping annotation 906200014938, segmentation format not supported.\n",
      "Skipping annotation 900900012574, segmentation format not supported.\n",
      "Skipping annotation 902000001645, segmentation format not supported.\n",
      "Skipping annotation 900100014807, segmentation format not supported.\n",
      "Skipping annotation 900100014835, segmentation format not supported.\n",
      "Skipping annotation 900100014870, segmentation format not supported.\n",
      "Skipping annotation 900100014873, segmentation format not supported.\n",
      "Skipping annotation 900100014925, segmentation format not supported.\n",
      "Skipping annotation 900100014938, segmentation format not supported.\n",
      "Skipping annotation 900100014966, segmentation format not supported.\n",
      "Skipping annotation 903800014375, segmentation format not supported.\n",
      "Skipping annotation 900100000722, segmentation format not supported.\n",
      "Skipping annotation 905300003242, segmentation format not supported.\n",
      "Skipping annotation 900300000540, segmentation format not supported.\n",
      "Skipping annotation 901600005907, segmentation format not supported.\n",
      "Skipping annotation 901600006066, segmentation format not supported.\n",
      "Skipping annotation 900300001366, segmentation format not supported.\n",
      "Skipping annotation 900300001408, segmentation format not supported.\n",
      "Skipping annotation 901600006709, segmentation format not supported.\n",
      "Skipping annotation 906100003579, segmentation format not supported.\n",
      "Skipping annotation 900300006233, segmentation format not supported.\n",
      "Skipping annotation 905800012838, segmentation format not supported.\n",
      "Skipping annotation 900300002860, segmentation format not supported.\n",
      "Skipping annotation 900300002998, segmentation format not supported.\n",
      "Skipping annotation 901600007954, segmentation format not supported.\n",
      "Skipping annotation 906100004809, segmentation format not supported.\n",
      "Skipping annotation 904400001145, segmentation format not supported.\n",
      "Skipping annotation 902800005688, segmentation format not supported.\n",
      "Skipping annotation 902800006421, segmentation format not supported.\n",
      "Skipping annotation 903300013417, segmentation format not supported.\n",
      "Skipping annotation 902000009075, segmentation format not supported.\n",
      "Skipping annotation 900300005620, segmentation format not supported.\n",
      "Skipping annotation 900100012757, segmentation format not supported.\n",
      "Skipping annotation 906000000438, segmentation format not supported.\n",
      "Skipping annotation 900300006811, segmentation format not supported.\n",
      "Skipping annotation 900100007524, segmentation format not supported.\n",
      "Skipping annotation 900300007685, segmentation format not supported.\n",
      "Skipping annotation 900100002229, segmentation format not supported.\n",
      "Skipping annotation 902800009910, segmentation format not supported.\n",
      "Skipping annotation 902000012021, segmentation format not supported.\n",
      "Skipping annotation 905200004376, segmentation format not supported.\n",
      "Skipping annotation 900300009599, segmentation format not supported.\n",
      "Skipping annotation 906000003270, segmentation format not supported.\n",
      "Skipping annotation 908400003685, segmentation format not supported.\n",
      "Skipping annotation 902400013517, segmentation format not supported.\n",
      "Skipping annotation 905200006753, segmentation format not supported.\n",
      "Skipping annotation 901900007174, segmentation format not supported.\n",
      "Skipping annotation 908600014954, segmentation format not supported.\n",
      "Skipping annotation 907700010130, segmentation format not supported.\n",
      "Skipping annotation 900200004903, segmentation format not supported.\n",
      "Skipping annotation 908400000643, segmentation format not supported.\n",
      "Skipping annotation 902000011667, segmentation format not supported.\n",
      "Conversion complete. YOLOv8 labels saved to: dataset/train/labels/\n"
     ]
    }
   ],
   "source": [
    "!python coco_to_yolov8.py --coco_path dataset/train/labels.json --output_dir dataset/train/labels/"
   ]
  },
  {
   "cell_type": "markdown",
   "metadata": {},
   "source": [
    "# Train model"
   ]
  },
  {
   "cell_type": "code",
   "execution_count": 2,
   "metadata": {},
   "outputs": [
    {
     "name": "stdout",
     "output_type": "stream",
     "text": [
      "D:\\Hung\\Projects\\GitHub\\ultralytics\n",
      "New https://pypi.org/project/ultralytics/8.3.4 available  Update with 'pip install -U ultralytics'\n",
      "Ultralytics YOLOv8.2.79  Python-3.8.0 torch-2.2.1+cu118 CUDA:0 (NVIDIA GeForce RTX 3060, 12287MiB)\n",
      "\u001b[34m\u001b[1mengine\\trainer: \u001b[0mtask=segment, mode=train, model=runs\\segment\\train6\\weights\\best.pt, data=D:\\Hung\\Projects\\GitHub\\ultralytics\\dataset\\shrimp\\data.yaml, epochs=300, time=None, patience=100, batch=16, imgsz=640, save=True, save_period=-1, cache=False, device=0, workers=8, project=None, name=train6, exist_ok=False, pretrained=True, optimizer=auto, verbose=True, seed=0, deterministic=True, single_cls=False, rect=False, cos_lr=False, close_mosaic=10, resume=runs\\segment\\train6\\weights\\best.pt, amp=True, fraction=1.0, profile=False, freeze=None, multi_scale=False, overlap_mask=True, mask_ratio=4, dropout=0.0, val=True, split=val, save_json=False, save_hybrid=False, conf=None, iou=0.7, max_det=300, half=False, dnn=False, plots=True, source=None, vid_stride=1, stream_buffer=False, visualize=False, augment=False, agnostic_nms=False, classes=None, retina_masks=False, embed=None, show=False, save_frames=False, save_txt=False, save_conf=False, save_crop=False, show_labels=True, show_conf=True, show_boxes=True, line_width=None, format=torchscript, keras=False, optimize=False, int8=False, dynamic=False, simplify=False, opset=None, workspace=4, nms=False, lr0=0.01, lrf=0.01, momentum=0.937, weight_decay=0.0005, warmup_epochs=3.0, warmup_momentum=0.8, warmup_bias_lr=0.0, box=7.5, cls=0.5, dfl=1.5, pose=12.0, kobj=1.0, label_smoothing=0.0, nbs=64, hsv_h=0.015, hsv_s=0.7, hsv_v=0.4, degrees=0.0, translate=0.1, scale=0.5, shear=0.0, perspective=0.0, flipud=0.0, fliplr=0.5, bgr=0.0, mosaic=1.0, mixup=0.0, copy_paste=0.0, auto_augment=randaugment, erasing=0.4, crop_fraction=1.0, cfg=None, tracker=botsort.yaml, save_dir=D:\\PROJECT\\GitHub\\THIGIACMAYTINH\\shrimp-segmentation\\runs\\segment\\train6\n",
      "\n",
      "                   from  n    params  module                                       arguments                     \n",
      "  0                  -1  1       464  ultralytics.nn.modules.conv.Conv             [3, 16, 3, 2]                 \n",
      "  1                  -1  1      4672  ultralytics.nn.modules.conv.Conv             [16, 32, 3, 2]                \n",
      "  2                  -1  1      7360  ultralytics.nn.modules.block.C2f             [32, 32, 1, True]             \n",
      "  3                  -1  1     18560  ultralytics.nn.modules.conv.Conv             [32, 64, 3, 2]                \n",
      "  4                  -1  2     49664  ultralytics.nn.modules.block.C2f             [64, 64, 2, True]             \n",
      "  5                  -1  1     73984  ultralytics.nn.modules.conv.Conv             [64, 128, 3, 2]               \n",
      "  6                  -1  2    197632  ultralytics.nn.modules.block.C2f             [128, 128, 2, True]           \n",
      "  7                  -1  1    295424  ultralytics.nn.modules.conv.Conv             [128, 256, 3, 2]              \n",
      "  8                  -1  1    460288  ultralytics.nn.modules.block.C2f             [256, 256, 1, True]           \n",
      "  9                  -1  1    164608  ultralytics.nn.modules.block.SPPF            [256, 256, 5]                 \n",
      " 10                  -1  1         0  torch.nn.modules.upsampling.Upsample         [None, 2, 'nearest']          \n",
      " 11             [-1, 6]  1         0  ultralytics.nn.modules.conv.Concat           [1]                           \n",
      " 12                  -1  1    148224  ultralytics.nn.modules.block.C2f             [384, 128, 1]                 \n",
      " 13                  -1  1         0  torch.nn.modules.upsampling.Upsample         [None, 2, 'nearest']          \n",
      " 14             [-1, 4]  1         0  ultralytics.nn.modules.conv.Concat           [1]                           \n",
      " 15                  -1  1     37248  ultralytics.nn.modules.block.C2f             [192, 64, 1]                  \n",
      " 16                  -1  1     36992  ultralytics.nn.modules.conv.Conv             [64, 64, 3, 2]                \n",
      " 17            [-1, 12]  1         0  ultralytics.nn.modules.conv.Concat           [1]                           \n",
      " 18                  -1  1    123648  ultralytics.nn.modules.block.C2f             [192, 128, 1]                 \n",
      " 19                  -1  1    147712  ultralytics.nn.modules.conv.Conv             [128, 128, 3, 2]              \n",
      " 20             [-1, 9]  1         0  ultralytics.nn.modules.conv.Concat           [1]                           \n",
      " 21                  -1  1    493056  ultralytics.nn.modules.block.C2f             [384, 256, 1]                 \n",
      " 22        [15, 18, 21]  1   1004275  ultralytics.nn.modules.head.Segment          [1, 32, 64, [64, 128, 256]]   \n",
      "YOLOv8n-seg summary: 261 layers, 3,263,811 parameters, 3,263,795 gradients, 12.1 GFLOPs\n",
      "\n",
      "Transferred 417/417 items from pretrained weights\n",
      "Freezing layer 'model.22.dfl.conv.weight'\n",
      "\u001b[34m\u001b[1mAMP: \u001b[0mrunning Automatic Mixed Precision (AMP) checks with YOLOv8n...\n",
      "\u001b[34m\u001b[1mAMP: \u001b[0mchecks passed \n"
     ]
    },
    {
     "name": "stderr",
     "output_type": "stream",
     "text": [
      "\u001b[34m\u001b[1mtrain: \u001b[0mScanning D:\\Hung\\Projects\\GitHub\\ultralytics\\dataset\\shrimp\\train\\labels.cache... 3766 images, 0 backgrounds, 0 corrupt: 100%|██████████| 3766/3766 [00:00<?, ?it/s]"
     ]
    },
    {
     "name": "stdout",
     "output_type": "stream",
     "text": [
      "\u001b[34m\u001b[1mtrain: \u001b[0mWARNING  D:\\Hung\\Projects\\GitHub\\ultralytics\\dataset\\shrimp\\train\\images\\WIN_20230618_16_38_51_Pro_jpg.rf.0b41dc68007c68f58b68ff8d4c1fa5d4.jpg: 1 duplicate labels removed\n",
      "\u001b[34m\u001b[1mtrain: \u001b[0mWARNING  D:\\Hung\\Projects\\GitHub\\ultralytics\\dataset\\shrimp\\train\\images\\WIN_20230618_16_38_51_Pro_jpg.rf.1832ae3f4ffc8b6071b646c0b160b9a4.jpg: 1 duplicate labels removed\n",
      "\u001b[34m\u001b[1mtrain: \u001b[0mWARNING  D:\\Hung\\Projects\\GitHub\\ultralytics\\dataset\\shrimp\\train\\images\\WIN_20230618_16_38_51_Pro_jpg.rf.23f628353b9498eaa0cd36e5ccd505cd.jpg: 1 duplicate labels removed\n",
      "\u001b[34m\u001b[1mtrain: \u001b[0mWARNING  D:\\Hung\\Projects\\GitHub\\ultralytics\\dataset\\shrimp\\train\\images\\WIN_20230618_16_38_51_Pro_jpg.rf.4792134736a492c9e9262b40ec7536d7.jpg: 1 duplicate labels removed\n",
      "\u001b[34m\u001b[1mtrain: \u001b[0mWARNING  D:\\Hung\\Projects\\GitHub\\ultralytics\\dataset\\shrimp\\train\\images\\WIN_20230618_16_38_51_Pro_jpg.rf.af24fb7cccd92ae257e1d9cc409fc925.jpg: 1 duplicate labels removed\n",
      "\u001b[34m\u001b[1mtrain: \u001b[0mWARNING  D:\\Hung\\Projects\\GitHub\\ultralytics\\dataset\\shrimp\\train\\images\\WIN_20230618_16_38_51_Pro_jpg.rf.d1f196ef53f4704bc236ed55a596298a.jpg: 1 duplicate labels removed\n",
      "\u001b[34m\u001b[1mtrain: \u001b[0mWARNING  D:\\Hung\\Projects\\GitHub\\ultralytics\\dataset\\shrimp\\train\\images\\WIN_20230618_16_38_51_Pro_jpg.rf.ddb72af338a90c44e25901fe0431018e.jpg: 1 duplicate labels removed\n"
     ]
    },
    {
     "name": "stderr",
     "output_type": "stream",
     "text": [
      "\n",
      "\u001b[34m\u001b[1mval: \u001b[0mScanning D:\\Hung\\Projects\\GitHub\\ultralytics\\dataset\\shrimp\\valid\\labels.cache... 842 images, 0 backgrounds, 0 corrupt: 100%|██████████| 842/842 [00:00<?, ?it/s]"
     ]
    },
    {
     "name": "stdout",
     "output_type": "stream",
     "text": [
      "\u001b[34m\u001b[1mval: \u001b[0mWARNING  D:\\Hung\\Projects\\GitHub\\ultralytics\\dataset\\shrimp\\valid\\images\\WIN_20230618_16_38_51_Pro_jpg.rf.6ba9210866b51d0b644e4c3a86ff2596.jpg: 1 duplicate labels removed\n",
      "\u001b[34m\u001b[1mval: \u001b[0mWARNING  D:\\Hung\\Projects\\GitHub\\ultralytics\\dataset\\shrimp\\valid\\images\\WIN_20230618_16_38_51_Pro_jpg.rf.ad187a84c222059015a4403bb3714f6c.jpg: 1 duplicate labels removed\n"
     ]
    },
    {
     "name": "stderr",
     "output_type": "stream",
     "text": [
      "\n"
     ]
    },
    {
     "name": "stdout",
     "output_type": "stream",
     "text": [
      "Plotting labels to D:\\PROJECT\\GitHub\\THIGIACMAYTINH\\shrimp-segmentation\\runs\\segment\\train6\\labels.jpg... \n",
      "\u001b[34m\u001b[1moptimizer:\u001b[0m 'optimizer=auto' found, ignoring 'lr0=0.01' and 'momentum=0.937' and determining best 'optimizer', 'lr0' and 'momentum' automatically... \n",
      "\u001b[34m\u001b[1moptimizer:\u001b[0m SGD(lr=0.01, momentum=0.9) with parameter groups 66 weight(decay=0.0), 77 weight(decay=0.0005), 76 bias(decay=0.0)\n",
      "Resuming training runs\\segment\\train6\\weights\\best.pt from epoch 270 to 300 total epochs\n",
      "Image sizes 640 train, 640 val\n",
      "Using 4 dataloader workers\n",
      "Logging results to \u001b[1mD:\\PROJECT\\GitHub\\THIGIACMAYTINH\\shrimp-segmentation\\runs\\segment\\train6\u001b[0m\n",
      "Starting training for 300 epochs...\n",
      "\n",
      "      Epoch    GPU_mem   box_loss   seg_loss   cls_loss   dfl_loss  Instances       Size\n"
     ]
    },
    {
     "name": "stderr",
     "output_type": "stream",
     "text": [
      "    270/300      3.52G     0.3855     0.6333     0.2522     0.8584         41        640: 100%|██████████| 236/236 [01:03<00:00,  3.70it/s]\n",
      "                 Class     Images  Instances      Box(P          R      mAP50  mAP50-95)     Mask(P          R      mAP50  mAP50-95): 100%|██████████| 27/27 [00:10<00:00,  2.55it/s]"
     ]
    },
    {
     "name": "stdout",
     "output_type": "stream",
     "text": [
      "                   all        842       5146      0.997      0.994      0.995      0.954      0.996      0.992      0.994      0.859\n"
     ]
    },
    {
     "name": "stderr",
     "output_type": "stream",
     "text": [
      "\n"
     ]
    },
    {
     "name": "stdout",
     "output_type": "stream",
     "text": [
      "\n",
      "      Epoch    GPU_mem   box_loss   seg_loss   cls_loss   dfl_loss  Instances       Size\n"
     ]
    },
    {
     "name": "stderr",
     "output_type": "stream",
     "text": [
      "    271/300       3.4G     0.3861     0.6339      0.252     0.8562         29        640: 100%|██████████| 236/236 [00:57<00:00,  4.12it/s]\n",
      "                 Class     Images  Instances      Box(P          R      mAP50  mAP50-95)     Mask(P          R      mAP50  mAP50-95): 100%|██████████| 27/27 [00:09<00:00,  2.76it/s]"
     ]
    },
    {
     "name": "stdout",
     "output_type": "stream",
     "text": [
      "                   all        842       5146      0.997      0.994      0.995      0.954      0.995      0.992      0.994      0.859\n"
     ]
    },
    {
     "name": "stderr",
     "output_type": "stream",
     "text": [
      "\n"
     ]
    },
    {
     "name": "stdout",
     "output_type": "stream",
     "text": [
      "\n",
      "      Epoch    GPU_mem   box_loss   seg_loss   cls_loss   dfl_loss  Instances       Size\n"
     ]
    },
    {
     "name": "stderr",
     "output_type": "stream",
     "text": [
      "    272/300      3.57G     0.3952     0.6407     0.2588     0.8591         58        640: 100%|██████████| 236/236 [00:56<00:00,  4.16it/s]\n",
      "                 Class     Images  Instances      Box(P          R      mAP50  mAP50-95)     Mask(P          R      mAP50  mAP50-95): 100%|██████████| 27/27 [00:09<00:00,  2.75it/s]\n"
     ]
    },
    {
     "name": "stdout",
     "output_type": "stream",
     "text": [
      "                   all        842       5146      0.995      0.996      0.995      0.954      0.996      0.991      0.994      0.859\n",
      "\n",
      "      Epoch    GPU_mem   box_loss   seg_loss   cls_loss   dfl_loss  Instances       Size\n"
     ]
    },
    {
     "name": "stderr",
     "output_type": "stream",
     "text": [
      "    273/300      3.46G     0.3897     0.6391     0.2531     0.8596         67        640: 100%|██████████| 236/236 [00:56<00:00,  4.18it/s]\n",
      "                 Class     Images  Instances      Box(P          R      mAP50  mAP50-95)     Mask(P          R      mAP50  mAP50-95): 100%|██████████| 27/27 [00:09<00:00,  2.74it/s]"
     ]
    },
    {
     "name": "stdout",
     "output_type": "stream",
     "text": [
      "                   all        842       5146      0.996      0.996      0.995      0.953      0.996      0.991      0.994      0.859\n"
     ]
    },
    {
     "name": "stderr",
     "output_type": "stream",
     "text": [
      "\n"
     ]
    },
    {
     "name": "stdout",
     "output_type": "stream",
     "text": [
      "\n",
      "      Epoch    GPU_mem   box_loss   seg_loss   cls_loss   dfl_loss  Instances       Size\n"
     ]
    },
    {
     "name": "stderr",
     "output_type": "stream",
     "text": [
      "    274/300      3.35G     0.3897     0.6344     0.2535     0.8583         39        640: 100%|██████████| 236/236 [00:56<00:00,  4.19it/s]\n",
      "                 Class     Images  Instances      Box(P          R      mAP50  mAP50-95)     Mask(P          R      mAP50  mAP50-95): 100%|██████████| 27/27 [00:09<00:00,  2.78it/s]"
     ]
    },
    {
     "name": "stdout",
     "output_type": "stream",
     "text": [
      "                   all        842       5146      0.995      0.996      0.995      0.953      0.996      0.991      0.994      0.859\n"
     ]
    },
    {
     "name": "stderr",
     "output_type": "stream",
     "text": [
      "\n"
     ]
    },
    {
     "name": "stdout",
     "output_type": "stream",
     "text": [
      "\n",
      "      Epoch    GPU_mem   box_loss   seg_loss   cls_loss   dfl_loss  Instances       Size\n"
     ]
    },
    {
     "name": "stderr",
     "output_type": "stream",
     "text": [
      "    275/300      3.35G     0.3891     0.6289     0.2556     0.8591         56        640: 100%|██████████| 236/236 [00:57<00:00,  4.13it/s]\n",
      "                 Class     Images  Instances      Box(P          R      mAP50  mAP50-95)     Mask(P          R      mAP50  mAP50-95): 100%|██████████| 27/27 [00:09<00:00,  2.71it/s]\n"
     ]
    },
    {
     "name": "stdout",
     "output_type": "stream",
     "text": [
      "                   all        842       5146      0.997      0.994      0.995      0.954      0.996      0.991      0.994      0.859\n",
      "\n",
      "      Epoch    GPU_mem   box_loss   seg_loss   cls_loss   dfl_loss  Instances       Size\n"
     ]
    },
    {
     "name": "stderr",
     "output_type": "stream",
     "text": [
      "    276/300      3.67G     0.3892     0.6336     0.2544     0.8571         15        640: 100%|██████████| 236/236 [00:57<00:00,  4.13it/s]\n",
      "                 Class     Images  Instances      Box(P          R      mAP50  mAP50-95)     Mask(P          R      mAP50  mAP50-95): 100%|██████████| 27/27 [00:09<00:00,  2.74it/s]\n"
     ]
    },
    {
     "name": "stdout",
     "output_type": "stream",
     "text": [
      "                   all        842       5146      0.995      0.996      0.995      0.954      0.996      0.991      0.994      0.859\n",
      "\n",
      "      Epoch    GPU_mem   box_loss   seg_loss   cls_loss   dfl_loss  Instances       Size\n"
     ]
    },
    {
     "name": "stderr",
     "output_type": "stream",
     "text": [
      "    277/300      3.47G     0.3885     0.6314     0.2546     0.8578         41        640: 100%|██████████| 236/236 [00:57<00:00,  4.13it/s]\n",
      "                 Class     Images  Instances      Box(P          R      mAP50  mAP50-95)     Mask(P          R      mAP50  mAP50-95): 100%|██████████| 27/27 [00:09<00:00,  2.76it/s]"
     ]
    },
    {
     "name": "stdout",
     "output_type": "stream",
     "text": [
      "                   all        842       5146      0.998      0.993      0.995      0.954      0.996      0.991      0.994      0.859\n"
     ]
    },
    {
     "name": "stderr",
     "output_type": "stream",
     "text": [
      "\n"
     ]
    },
    {
     "name": "stdout",
     "output_type": "stream",
     "text": [
      "\n",
      "      Epoch    GPU_mem   box_loss   seg_loss   cls_loss   dfl_loss  Instances       Size\n"
     ]
    },
    {
     "name": "stderr",
     "output_type": "stream",
     "text": [
      "    278/300      3.41G     0.3822     0.6302     0.2498     0.8563         38        640: 100%|██████████| 236/236 [00:56<00:00,  4.18it/s]\n",
      "                 Class     Images  Instances      Box(P          R      mAP50  mAP50-95)     Mask(P          R      mAP50  mAP50-95): 100%|██████████| 27/27 [00:09<00:00,  2.75it/s]"
     ]
    },
    {
     "name": "stdout",
     "output_type": "stream",
     "text": [
      "                   all        842       5146      0.998      0.993      0.995      0.953      0.996      0.991      0.994      0.859\n"
     ]
    },
    {
     "name": "stderr",
     "output_type": "stream",
     "text": [
      "\n"
     ]
    },
    {
     "name": "stdout",
     "output_type": "stream",
     "text": [
      "\n",
      "      Epoch    GPU_mem   box_loss   seg_loss   cls_loss   dfl_loss  Instances       Size\n"
     ]
    },
    {
     "name": "stderr",
     "output_type": "stream",
     "text": [
      "    279/300      3.44G     0.3896     0.6363     0.2535     0.8585        102        640: 100%|██████████| 236/236 [00:56<00:00,  4.16it/s]\n",
      "                 Class     Images  Instances      Box(P          R      mAP50  mAP50-95)     Mask(P          R      mAP50  mAP50-95): 100%|██████████| 27/27 [00:09<00:00,  2.77it/s]"
     ]
    },
    {
     "name": "stdout",
     "output_type": "stream",
     "text": [
      "                   all        842       5146      0.998      0.993      0.995      0.954      0.997      0.991      0.994      0.859\n"
     ]
    },
    {
     "name": "stderr",
     "output_type": "stream",
     "text": [
      "\n"
     ]
    },
    {
     "name": "stdout",
     "output_type": "stream",
     "text": [
      "\n",
      "      Epoch    GPU_mem   box_loss   seg_loss   cls_loss   dfl_loss  Instances       Size\n"
     ]
    },
    {
     "name": "stderr",
     "output_type": "stream",
     "text": [
      "    280/300       3.8G     0.3877     0.6344      0.254     0.8572         37        640: 100%|██████████| 236/236 [00:57<00:00,  4.14it/s]\n",
      "                 Class     Images  Instances      Box(P          R      mAP50  mAP50-95)     Mask(P          R      mAP50  mAP50-95): 100%|██████████| 27/27 [00:09<00:00,  2.78it/s]"
     ]
    },
    {
     "name": "stdout",
     "output_type": "stream",
     "text": [
      "                   all        842       5146      0.995      0.996      0.995      0.954      0.996      0.991      0.994      0.859\n"
     ]
    },
    {
     "name": "stderr",
     "output_type": "stream",
     "text": [
      "\n"
     ]
    },
    {
     "name": "stdout",
     "output_type": "stream",
     "text": [
      "\n",
      "      Epoch    GPU_mem   box_loss   seg_loss   cls_loss   dfl_loss  Instances       Size\n"
     ]
    },
    {
     "name": "stderr",
     "output_type": "stream",
     "text": [
      "    281/300       3.6G     0.3833     0.6251     0.2524     0.8567         91        640: 100%|██████████| 236/236 [00:57<00:00,  4.10it/s]\n",
      "                 Class     Images  Instances      Box(P          R      mAP50  mAP50-95)     Mask(P          R      mAP50  mAP50-95): 100%|██████████| 27/27 [00:09<00:00,  2.73it/s]\n"
     ]
    },
    {
     "name": "stdout",
     "output_type": "stream",
     "text": [
      "                   all        842       5146      0.998      0.993      0.995      0.954      0.996      0.991      0.994      0.859\n",
      "\n",
      "      Epoch    GPU_mem   box_loss   seg_loss   cls_loss   dfl_loss  Instances       Size\n"
     ]
    },
    {
     "name": "stderr",
     "output_type": "stream",
     "text": [
      "    282/300      3.82G     0.3851     0.6311     0.2515     0.8566         28        640: 100%|██████████| 236/236 [00:56<00:00,  4.17it/s]\n",
      "                 Class     Images  Instances      Box(P          R      mAP50  mAP50-95)     Mask(P          R      mAP50  mAP50-95): 100%|██████████| 27/27 [00:09<00:00,  2.81it/s]"
     ]
    },
    {
     "name": "stdout",
     "output_type": "stream",
     "text": [
      "                   all        842       5146      0.998      0.993      0.995      0.954      0.996      0.991      0.994      0.859\n"
     ]
    },
    {
     "name": "stderr",
     "output_type": "stream",
     "text": [
      "\n"
     ]
    },
    {
     "name": "stdout",
     "output_type": "stream",
     "text": [
      "\n",
      "      Epoch    GPU_mem   box_loss   seg_loss   cls_loss   dfl_loss  Instances       Size\n"
     ]
    },
    {
     "name": "stderr",
     "output_type": "stream",
     "text": [
      "    283/300      3.43G     0.3869     0.6302     0.2526      0.857        105        640: 100%|██████████| 236/236 [00:56<00:00,  4.16it/s]\n",
      "                 Class     Images  Instances      Box(P          R      mAP50  mAP50-95)     Mask(P          R      mAP50  mAP50-95): 100%|██████████| 27/27 [00:09<00:00,  2.82it/s]\n"
     ]
    },
    {
     "name": "stdout",
     "output_type": "stream",
     "text": [
      "                   all        842       5146      0.998      0.993      0.995      0.954      0.996      0.991      0.994      0.859\n",
      "\n",
      "      Epoch    GPU_mem   box_loss   seg_loss   cls_loss   dfl_loss  Instances       Size\n"
     ]
    },
    {
     "name": "stderr",
     "output_type": "stream",
     "text": [
      "    284/300      3.55G     0.3847     0.6277     0.2505     0.8564         79        640: 100%|██████████| 236/236 [00:56<00:00,  4.17it/s]\n",
      "                 Class     Images  Instances      Box(P          R      mAP50  mAP50-95)     Mask(P          R      mAP50  mAP50-95): 100%|██████████| 27/27 [00:09<00:00,  2.79it/s]\n"
     ]
    },
    {
     "name": "stdout",
     "output_type": "stream",
     "text": [
      "                   all        842       5146      0.998      0.993      0.995      0.954      0.997      0.991      0.994      0.859\n",
      "\n",
      "      Epoch    GPU_mem   box_loss   seg_loss   cls_loss   dfl_loss  Instances       Size\n"
     ]
    },
    {
     "name": "stderr",
     "output_type": "stream",
     "text": [
      "    285/300       3.6G     0.3835     0.6268     0.2507     0.8562         87        640: 100%|██████████| 236/236 [00:56<00:00,  4.17it/s]\n",
      "                 Class     Images  Instances      Box(P          R      mAP50  mAP50-95)     Mask(P          R      mAP50  mAP50-95): 100%|██████████| 27/27 [00:09<00:00,  2.83it/s]\n"
     ]
    },
    {
     "name": "stdout",
     "output_type": "stream",
     "text": [
      "                   all        842       5146      0.998      0.993      0.995      0.953      0.996       0.99      0.994      0.859\n",
      "\n",
      "      Epoch    GPU_mem   box_loss   seg_loss   cls_loss   dfl_loss  Instances       Size\n"
     ]
    },
    {
     "name": "stderr",
     "output_type": "stream",
     "text": [
      "    286/300      3.43G     0.3861     0.6332     0.2497     0.8576         57        640: 100%|██████████| 236/236 [00:56<00:00,  4.17it/s]\n",
      "                 Class     Images  Instances      Box(P          R      mAP50  mAP50-95)     Mask(P          R      mAP50  mAP50-95): 100%|██████████| 27/27 [00:09<00:00,  2.83it/s]\n"
     ]
    },
    {
     "name": "stdout",
     "output_type": "stream",
     "text": [
      "                   all        842       5146      0.998      0.993      0.995      0.953      0.996      0.991      0.994      0.859\n",
      "\n",
      "      Epoch    GPU_mem   box_loss   seg_loss   cls_loss   dfl_loss  Instances       Size\n"
     ]
    },
    {
     "name": "stderr",
     "output_type": "stream",
     "text": [
      "    287/300      3.71G     0.3869     0.6377     0.2525     0.8567         53        640: 100%|██████████| 236/236 [00:56<00:00,  4.16it/s]\n",
      "                 Class     Images  Instances      Box(P          R      mAP50  mAP50-95)     Mask(P          R      mAP50  mAP50-95): 100%|██████████| 27/27 [00:09<00:00,  2.84it/s]"
     ]
    },
    {
     "name": "stdout",
     "output_type": "stream",
     "text": [
      "                   all        842       5146      0.998      0.993      0.995      0.953      0.996      0.991      0.994      0.859\n"
     ]
    },
    {
     "name": "stderr",
     "output_type": "stream",
     "text": [
      "\n"
     ]
    },
    {
     "name": "stdout",
     "output_type": "stream",
     "text": [
      "\n",
      "      Epoch    GPU_mem   box_loss   seg_loss   cls_loss   dfl_loss  Instances       Size\n"
     ]
    },
    {
     "name": "stderr",
     "output_type": "stream",
     "text": [
      "    288/300      3.61G      0.383     0.6248     0.2494     0.8562         44        640: 100%|██████████| 236/236 [00:56<00:00,  4.18it/s]\n",
      "                 Class     Images  Instances      Box(P          R      mAP50  mAP50-95)     Mask(P          R      mAP50  mAP50-95): 100%|██████████| 27/27 [00:09<00:00,  2.83it/s]"
     ]
    },
    {
     "name": "stdout",
     "output_type": "stream",
     "text": [
      "                   all        842       5146      0.998      0.993      0.995      0.953      0.996      0.991      0.994      0.859\n"
     ]
    },
    {
     "name": "stderr",
     "output_type": "stream",
     "text": [
      "\n"
     ]
    },
    {
     "name": "stdout",
     "output_type": "stream",
     "text": [
      "\n",
      "      Epoch    GPU_mem   box_loss   seg_loss   cls_loss   dfl_loss  Instances       Size\n"
     ]
    },
    {
     "name": "stderr",
     "output_type": "stream",
     "text": [
      "    289/300      3.45G     0.3836     0.6268     0.2497     0.8548         32        640: 100%|██████████| 236/236 [00:56<00:00,  4.16it/s]\n",
      "                 Class     Images  Instances      Box(P          R      mAP50  mAP50-95)     Mask(P          R      mAP50  mAP50-95): 100%|██████████| 27/27 [00:09<00:00,  2.83it/s]\n"
     ]
    },
    {
     "name": "stdout",
     "output_type": "stream",
     "text": [
      "                   all        842       5146      0.998      0.993      0.995      0.953      0.996      0.991      0.994      0.859\n",
      "\n",
      "      Epoch    GPU_mem   box_loss   seg_loss   cls_loss   dfl_loss  Instances       Size\n"
     ]
    },
    {
     "name": "stderr",
     "output_type": "stream",
     "text": [
      "    290/300      3.51G     0.3884     0.6359     0.2525     0.8589         54        640: 100%|██████████| 236/236 [00:57<00:00,  4.13it/s]\n",
      "                 Class     Images  Instances      Box(P          R      mAP50  mAP50-95)     Mask(P          R      mAP50  mAP50-95): 100%|██████████| 27/27 [00:09<00:00,  2.79it/s]"
     ]
    },
    {
     "name": "stdout",
     "output_type": "stream",
     "text": [
      "                   all        842       5146      0.997      0.993      0.995      0.953      0.995      0.991      0.994      0.859\n"
     ]
    },
    {
     "name": "stderr",
     "output_type": "stream",
     "text": [
      "\n"
     ]
    },
    {
     "name": "stdout",
     "output_type": "stream",
     "text": [
      "Closing dataloader mosaic\n"
     ]
    },
    {
     "name": "stderr",
     "output_type": "stream",
     "text": [
      "Traceback (most recent call last):\n",
      "  File \"c:\\Users\\z230\\AppData\\Local\\Programs\\Python\\Python38\\lib\\multiprocessing\\queues.py\", line 241, in _feed\n",
      "    send_bytes(obj)\n",
      "  File \"c:\\Users\\z230\\AppData\\Local\\Programs\\Python\\Python38\\lib\\multiprocessing\\connection.py\", line 200, in send_bytes\n",
      "    self._send_bytes(m[offset:offset + size])\n",
      "  File \"c:\\Users\\z230\\AppData\\Local\\Programs\\Python\\Python38\\lib\\multiprocessing\\connection.py\", line 280, in _send_bytes\n",
      "    ov, err = _winapi.WriteFile(self._handle, buf, overlapped=True)\n",
      "BrokenPipeError: [WinError 232] The pipe is being closed\n"
     ]
    },
    {
     "name": "stdout",
     "output_type": "stream",
     "text": [
      "\n",
      "      Epoch    GPU_mem   box_loss   seg_loss   cls_loss   dfl_loss  Instances       Size\n"
     ]
    },
    {
     "name": "stderr",
     "output_type": "stream",
     "text": [
      "    291/300      3.23G     0.3265     0.5462     0.2168     0.8314         56        640: 100%|██████████| 236/236 [00:54<00:00,  4.29it/s]\n",
      "                 Class     Images  Instances      Box(P          R      mAP50  mAP50-95)     Mask(P          R      mAP50  mAP50-95): 100%|██████████| 27/27 [00:09<00:00,  2.82it/s]\n"
     ]
    },
    {
     "name": "stdout",
     "output_type": "stream",
     "text": [
      "                   all        842       5146      0.998      0.993      0.995      0.953      0.996      0.991      0.994      0.859\n",
      "\n",
      "      Epoch    GPU_mem   box_loss   seg_loss   cls_loss   dfl_loss  Instances       Size\n"
     ]
    },
    {
     "name": "stderr",
     "output_type": "stream",
     "text": [
      "    292/300      3.09G     0.3169     0.5346     0.2104      0.827         14        640: 100%|██████████| 236/236 [00:53<00:00,  4.43it/s]\n",
      "                 Class     Images  Instances      Box(P          R      mAP50  mAP50-95)     Mask(P          R      mAP50  mAP50-95): 100%|██████████| 27/27 [00:09<00:00,  2.88it/s]\n"
     ]
    },
    {
     "name": "stdout",
     "output_type": "stream",
     "text": [
      "                   all        842       5146      0.998      0.993      0.995      0.953      0.995      0.991      0.994      0.858\n",
      "\n",
      "      Epoch    GPU_mem   box_loss   seg_loss   cls_loss   dfl_loss  Instances       Size\n"
     ]
    },
    {
     "name": "stderr",
     "output_type": "stream",
     "text": [
      "    293/300      3.36G     0.3186      0.539     0.2108     0.8279         27        640: 100%|██████████| 236/236 [00:53<00:00,  4.42it/s]\n",
      "                 Class     Images  Instances      Box(P          R      mAP50  mAP50-95)     Mask(P          R      mAP50  mAP50-95): 100%|██████████| 27/27 [00:09<00:00,  2.86it/s]"
     ]
    },
    {
     "name": "stdout",
     "output_type": "stream",
     "text": [
      "                   all        842       5146      0.998      0.993      0.995      0.953      0.996      0.991      0.994      0.859\n"
     ]
    },
    {
     "name": "stderr",
     "output_type": "stream",
     "text": [
      "\n"
     ]
    },
    {
     "name": "stdout",
     "output_type": "stream",
     "text": [
      "\n",
      "      Epoch    GPU_mem   box_loss   seg_loss   cls_loss   dfl_loss  Instances       Size\n"
     ]
    },
    {
     "name": "stderr",
     "output_type": "stream",
     "text": [
      "    294/300      3.16G     0.3164     0.5325      0.209     0.8271         11        640: 100%|██████████| 236/236 [00:53<00:00,  4.42it/s]\n",
      "                 Class     Images  Instances      Box(P          R      mAP50  mAP50-95)     Mask(P          R      mAP50  mAP50-95): 100%|██████████| 27/27 [00:09<00:00,  2.86it/s]\n"
     ]
    },
    {
     "name": "stdout",
     "output_type": "stream",
     "text": [
      "                   all        842       5146      0.998      0.993      0.995      0.953      0.996      0.991      0.994      0.859\n",
      "\n",
      "      Epoch    GPU_mem   box_loss   seg_loss   cls_loss   dfl_loss  Instances       Size\n"
     ]
    },
    {
     "name": "stderr",
     "output_type": "stream",
     "text": [
      "    295/300      3.13G     0.3145     0.5313     0.2077     0.8271         18        640: 100%|██████████| 236/236 [00:53<00:00,  4.43it/s]\n",
      "                 Class     Images  Instances      Box(P          R      mAP50  mAP50-95)     Mask(P          R      mAP50  mAP50-95): 100%|██████████| 27/27 [00:09<00:00,  2.82it/s]"
     ]
    },
    {
     "name": "stdout",
     "output_type": "stream",
     "text": [
      "                   all        842       5146      0.998      0.993      0.995      0.953      0.996      0.991      0.994      0.859\n"
     ]
    },
    {
     "name": "stderr",
     "output_type": "stream",
     "text": [
      "\n"
     ]
    },
    {
     "name": "stdout",
     "output_type": "stream",
     "text": [
      "\n",
      "      Epoch    GPU_mem   box_loss   seg_loss   cls_loss   dfl_loss  Instances       Size\n"
     ]
    },
    {
     "name": "stderr",
     "output_type": "stream",
     "text": [
      "    296/300      3.22G     0.3084     0.5263     0.2053     0.8232         32        640: 100%|██████████| 236/236 [00:53<00:00,  4.42it/s]\n",
      "                 Class     Images  Instances      Box(P          R      mAP50  mAP50-95)     Mask(P          R      mAP50  mAP50-95): 100%|██████████| 27/27 [00:09<00:00,  2.85it/s]"
     ]
    },
    {
     "name": "stdout",
     "output_type": "stream",
     "text": [
      "                   all        842       5146      0.998      0.993      0.995      0.953      0.996      0.991      0.994      0.859\n"
     ]
    },
    {
     "name": "stderr",
     "output_type": "stream",
     "text": [
      "\n"
     ]
    },
    {
     "name": "stdout",
     "output_type": "stream",
     "text": [
      "\n",
      "      Epoch    GPU_mem   box_loss   seg_loss   cls_loss   dfl_loss  Instances       Size\n"
     ]
    },
    {
     "name": "stderr",
     "output_type": "stream",
     "text": [
      "    297/300      3.24G     0.3141     0.5338     0.2096     0.8247         74        640: 100%|██████████| 236/236 [00:53<00:00,  4.43it/s]\n",
      "                 Class     Images  Instances      Box(P          R      mAP50  mAP50-95)     Mask(P          R      mAP50  mAP50-95): 100%|██████████| 27/27 [00:09<00:00,  2.85it/s]\n"
     ]
    },
    {
     "name": "stdout",
     "output_type": "stream",
     "text": [
      "                   all        842       5146      0.998      0.993      0.995      0.953      0.996      0.991      0.994      0.859\n",
      "\n",
      "      Epoch    GPU_mem   box_loss   seg_loss   cls_loss   dfl_loss  Instances       Size\n"
     ]
    },
    {
     "name": "stderr",
     "output_type": "stream",
     "text": [
      "    298/300      3.22G     0.3156     0.5336     0.2095     0.8248         12        640: 100%|██████████| 236/236 [00:53<00:00,  4.44it/s]\n",
      "                 Class     Images  Instances      Box(P          R      mAP50  mAP50-95)     Mask(P          R      mAP50  mAP50-95): 100%|██████████| 27/27 [00:09<00:00,  2.86it/s]"
     ]
    },
    {
     "name": "stdout",
     "output_type": "stream",
     "text": [
      "                   all        842       5146      0.998      0.993      0.995      0.953      0.996      0.991      0.994      0.859\n"
     ]
    },
    {
     "name": "stderr",
     "output_type": "stream",
     "text": [
      "\n"
     ]
    },
    {
     "name": "stdout",
     "output_type": "stream",
     "text": [
      "\n",
      "      Epoch    GPU_mem   box_loss   seg_loss   cls_loss   dfl_loss  Instances       Size\n"
     ]
    },
    {
     "name": "stderr",
     "output_type": "stream",
     "text": [
      "    299/300      3.13G     0.3114     0.5267     0.2069     0.8247         44        640: 100%|██████████| 236/236 [00:53<00:00,  4.44it/s]\n",
      "                 Class     Images  Instances      Box(P          R      mAP50  mAP50-95)     Mask(P          R      mAP50  mAP50-95): 100%|██████████| 27/27 [00:09<00:00,  2.86it/s]\n"
     ]
    },
    {
     "name": "stdout",
     "output_type": "stream",
     "text": [
      "                   all        842       5146      0.998      0.993      0.995      0.953      0.996      0.991      0.994      0.859\n",
      "\n",
      "      Epoch    GPU_mem   box_loss   seg_loss   cls_loss   dfl_loss  Instances       Size\n"
     ]
    },
    {
     "name": "stderr",
     "output_type": "stream",
     "text": [
      "    300/300      3.18G     0.3061     0.5228     0.2042     0.8238         35        640: 100%|██████████| 236/236 [00:53<00:00,  4.43it/s]\n",
      "                 Class     Images  Instances      Box(P          R      mAP50  mAP50-95)     Mask(P          R      mAP50  mAP50-95): 100%|██████████| 27/27 [00:09<00:00,  2.85it/s]\n"
     ]
    },
    {
     "name": "stdout",
     "output_type": "stream",
     "text": [
      "                   all        842       5146      0.998      0.993      0.995      0.953      0.996      0.991      0.994      0.859\n",
      "\n",
      "31 epochs completed in 0.577 hours.\n",
      "Optimizer stripped from D:\\PROJECT\\GitHub\\THIGIACMAYTINH\\shrimp-segmentation\\runs\\segment\\train6\\weights\\last.pt, 6.8MB\n",
      "Optimizer stripped from D:\\PROJECT\\GitHub\\THIGIACMAYTINH\\shrimp-segmentation\\runs\\segment\\train6\\weights\\best.pt, 6.8MB\n",
      "\n",
      "Validating D:\\PROJECT\\GitHub\\THIGIACMAYTINH\\shrimp-segmentation\\runs\\segment\\train6\\weights\\best.pt...\n",
      "Ultralytics YOLOv8.2.79  Python-3.8.0 torch-2.2.1+cu118 CUDA:0 (NVIDIA GeForce RTX 3060, 12287MiB)\n",
      "YOLOv8n-seg summary (fused): 195 layers, 3,258,259 parameters, 0 gradients, 12.0 GFLOPs\n"
     ]
    },
    {
     "name": "stderr",
     "output_type": "stream",
     "text": [
      "                 Class     Images  Instances      Box(P          R      mAP50  mAP50-95)     Mask(P          R      mAP50  mAP50-95): 100%|██████████| 27/27 [00:13<00:00,  2.01it/s]\n"
     ]
    },
    {
     "name": "stdout",
     "output_type": "stream",
     "text": [
      "                   all        842       5146      0.997      0.994      0.995      0.954      0.995      0.991      0.994      0.859\n",
      "Speed: 0.6ms preprocess, 2.4ms inference, 0.0ms loss, 1.3ms postprocess per image\n",
      "Results saved to \u001b[1mD:\\PROJECT\\GitHub\\THIGIACMAYTINH\\shrimp-segmentation\\runs\\segment\\train6\u001b[0m\n"
     ]
    }
   ],
   "source": [
    "%cd D:/Hung/Projects/GitHub/ultralytics/\n",
    "\n",
    "from ultralytics import YOLO\n",
    "# Load a model\n",
    "# model = YOLO(\"./ultralytics/cfg/models/yolov8n-seg.yaml\")  # build a new model from YAML\n",
    "model = YOLO(\"runs/segment/train6/weights/best.pt\")  # load a pretrained model (recommended for training)\n",
    "# model = YOLO(\"yolov8n-seg.yaml\").load(\"yolov8n.pt\")  # build from YAML and transfer weights\n",
    "\n",
    "# Train the model\n",
    "results = model.train(data=\"dataset/shrimp/data.yaml\", epochs=300, imgsz=640, device=0, resume=True, save_dir=\"runs/segment/train6\")"
   ]
  },
  {
   "cell_type": "code",
   "execution_count": 1,
   "metadata": {},
   "outputs": [
    {
     "name": "stdout",
     "output_type": "stream",
     "text": [
      "\n",
      "image 1/1 d:\\Hung\\Projects\\GitHub\\ultralytics\\shrimp.jpg: 448x640 14 shrimps, 228.4ms\n",
      "Speed: 4.0ms preprocess, 228.4ms inference, 0.0ms postprocess per image at shape (1, 3, 448, 640)\n"
     ]
    },
    {
     "data": {
      "text/plain": [
       "'shrimp_output.jpg'"
      ]
     },
     "execution_count": 1,
     "metadata": {},
     "output_type": "execute_result"
    }
   ],
   "source": [
    "from ultralytics import YOLO\n",
    "import cv2\n",
    "\n",
    "model = YOLO(r\"D:\\Hung\\Projects\\GitHub\\ultralytics\\runs\\segment\\train6\\weights\\best.pt\")\n",
    "\n",
    "# Predict with the model\n",
    "results = model(\"shrimp.jpg\")  # predict on an image\n",
    "results[0].save('shrimp_output.jpg')\n"
   ]
  },
  {
   "cell_type": "markdown",
   "metadata": {},
   "source": [
    "## Convert *.pt to *.onnx"
   ]
  },
  {
   "cell_type": "code",
   "execution_count": 1,
   "metadata": {},
   "outputs": [
    {
     "name": "stdout",
     "output_type": "stream",
     "text": [
      "Ultralytics YOLOv8.2.79  Python-3.8.0 torch-2.2.1+cu118 CPU (Intel Core(TM) i5-4590 3.30GHz)\n",
      "YOLOv8n-seg summary (fused): 195 layers, 3,258,259 parameters, 0 gradients, 12.0 GFLOPs\n",
      "\n",
      "\u001b[34m\u001b[1mPyTorch:\u001b[0m starting from 'D:\\Hung\\Projects\\GitHub\\ultralytics\\runs\\segment\\train6\\weights\\best.pt' with input shape (1, 3, 640, 640) BCHW and output shape(s) ((1, 37, 8400), (1, 32, 160, 160)) (6.5 MB)\n",
      "\u001b[31m\u001b[1mrequirements:\u001b[0m Ultralytics requirements ['onnx>=1.12.0', 'onnxslim>=0.1.31', 'onnxruntime'] not found, attempting AutoUpdate...\n",
      "Collecting onnx>=1.12.0\n",
      "  Downloading onnx-1.17.0-cp38-cp38-win_amd64.whl.metadata (16 kB)\n",
      "Collecting onnxslim>=0.1.31\n",
      "  Downloading onnxslim-0.1.35-py3-none-any.whl.metadata (3.0 kB)\n",
      "Collecting onnxruntime\n",
      "  Downloading onnxruntime-1.19.2-cp38-cp38-win_amd64.whl.metadata (4.7 kB)\n",
      "Requirement already satisfied: numpy>=1.20 in c:\\users\\z230\\appdata\\local\\programs\\python\\python38\\lib\\site-packages (from onnx>=1.12.0) (1.24.1)\n",
      "Collecting protobuf>=3.20.2 (from onnx>=1.12.0)\n",
      "  Downloading protobuf-5.28.2-cp38-cp38-win_amd64.whl.metadata (592 bytes)\n",
      "Requirement already satisfied: sympy in c:\\users\\z230\\appdata\\local\\programs\\python\\python38\\lib\\site-packages (from onnxslim>=0.1.31) (1.12)\n",
      "Requirement already satisfied: packaging in c:\\users\\z230\\appdata\\local\\programs\\python\\python38\\lib\\site-packages (from onnxslim>=0.1.31) (24.1)\n",
      "Collecting coloredlogs (from onnxruntime)\n",
      "  Downloading coloredlogs-15.0.1-py2.py3-none-any.whl.metadata (12 kB)\n",
      "Collecting flatbuffers (from onnxruntime)\n",
      "  Downloading flatbuffers-24.3.25-py2.py3-none-any.whl.metadata (850 bytes)\n",
      "Collecting humanfriendly>=9.1 (from coloredlogs->onnxruntime)\n",
      "  Downloading humanfriendly-10.0-py2.py3-none-any.whl.metadata (9.2 kB)\n",
      "Requirement already satisfied: mpmath>=0.19 in c:\\users\\z230\\appdata\\local\\programs\\python\\python38\\lib\\site-packages (from sympy->onnxslim>=0.1.31) (1.3.0)\n",
      "Collecting pyreadline3 (from humanfriendly>=9.1->coloredlogs->onnxruntime)\n",
      "  Downloading pyreadline3-3.5.4-py3-none-any.whl.metadata (4.7 kB)\n",
      "Downloading onnx-1.17.0-cp38-cp38-win_amd64.whl (14.5 MB)\n",
      "   ---------------------------------------- 14.5/14.5 MB 3.4 MB/s eta 0:00:00\n",
      "Downloading onnxslim-0.1.35-py3-none-any.whl (140 kB)\n",
      "Downloading onnxruntime-1.19.2-cp38-cp38-win_amd64.whl (11.1 MB)\n",
      "   ---------------------------------------- 11.1/11.1 MB 4.1 MB/s eta 0:00:00\n",
      "Downloading protobuf-5.28.2-cp38-cp38-win_amd64.whl (431 kB)\n",
      "Downloading coloredlogs-15.0.1-py2.py3-none-any.whl (46 kB)\n",
      "Downloading flatbuffers-24.3.25-py2.py3-none-any.whl (26 kB)\n",
      "Downloading humanfriendly-10.0-py2.py3-none-any.whl (86 kB)\n",
      "Downloading pyreadline3-3.5.4-py3-none-any.whl (83 kB)\n",
      "Installing collected packages: flatbuffers, pyreadline3, protobuf, onnx, humanfriendly, onnxslim, coloredlogs, onnxruntime\n",
      "Successfully installed coloredlogs-15.0.1 flatbuffers-24.3.25 humanfriendly-10.0 onnx-1.17.0 onnxruntime-1.19.2 onnxslim-0.1.35 protobuf-5.28.2 pyreadline3-3.5.4\n",
      "\n",
      "\u001b[31m\u001b[1mrequirements:\u001b[0m AutoUpdate success  33.7s, installed 3 packages: ['onnx>=1.12.0', 'onnxslim>=0.1.31', 'onnxruntime']\n",
      "\u001b[31m\u001b[1mrequirements:\u001b[0m  \u001b[1mRestart runtime or rerun command for updates to take effect\u001b[0m\n",
      "\n",
      "\n",
      "\u001b[34m\u001b[1mONNX:\u001b[0m starting export with onnx 1.17.0 opset 12...\n",
      "\u001b[34m\u001b[1mONNX:\u001b[0m slimming with onnxslim 0.1.35...\n",
      "\u001b[34m\u001b[1mONNX:\u001b[0m export success  37.3s, saved as 'D:\\Hung\\Projects\\GitHub\\ultralytics\\runs\\segment\\train6\\weights\\best.onnx' (12.7 MB)\n",
      "\n",
      "Export complete (41.1s)\n",
      "Results saved to \u001b[1mD:\\Hung\\Projects\\GitHub\\ultralytics\\runs\\segment\\train6\\weights\u001b[0m\n",
      "Predict:         yolo predict task=segment model=D:\\Hung\\Projects\\GitHub\\ultralytics\\runs\\segment\\train6\\weights\\best.onnx imgsz=640  \n",
      "Validate:        yolo val task=segment model=D:\\Hung\\Projects\\GitHub\\ultralytics\\runs\\segment\\train6\\weights\\best.onnx imgsz=640 data=D:\\Hung\\Projects\\GitHub\\ultralytics\\dataset\\shrimp\\data.yaml  \n",
      "Visualize:       https://netron.app\n"
     ]
    },
    {
     "data": {
      "text/plain": [
       "'D:\\\\Hung\\\\Projects\\\\GitHub\\\\ultralytics\\\\runs\\\\segment\\\\train6\\\\weights\\\\best.onnx'"
      ]
     },
     "execution_count": 1,
     "metadata": {},
     "output_type": "execute_result"
    }
   ],
   "source": [
    "from ultralytics import YOLO\n",
    "import cv2\n",
    "\n",
    "model = YOLO(r\"D:\\Hung\\Projects\\GitHub\\ultralytics\\runs\\segment\\train6\\weights\\best.pt\")\n",
    "\n",
    "model.export(format=\"onnx\", opset=12, simplify=True, dynamic=False)"
   ]
  }
 ],
 "metadata": {
  "kernelspec": {
   "display_name": "Python 3",
   "language": "python",
   "name": "python3"
  },
  "language_info": {
   "codemirror_mode": {
    "name": "ipython",
    "version": 3
   },
   "file_extension": ".py",
   "mimetype": "text/x-python",
   "name": "python",
   "nbconvert_exporter": "python",
   "pygments_lexer": "ipython3",
   "version": "3.8.0"
  }
 },
 "nbformat": 4,
 "nbformat_minor": 2
}
