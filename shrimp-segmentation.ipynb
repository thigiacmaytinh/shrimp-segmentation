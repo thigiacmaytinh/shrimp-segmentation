{
 "cells": [
  {
   "cell_type": "markdown",
   "metadata": {},
   "source": [
    "# Test with pretrain model"
   ]
  },
  {
   "cell_type": "code",
   "execution_count": 4,
   "metadata": {},
   "outputs": [
    {
     "name": "stdout",
     "output_type": "stream",
     "text": [
      "WARNING  'boxes' is deprecated and will be removed in in the future. Please use 'show_boxes' instead.\n",
      "\n",
      "image 1/1 C:\\Users\\z230\\Downloads\\B1D3K+VdnWL.png: 384x640 7 cats, 13.0ms\n",
      "Speed: 3.0ms preprocess, 13.0ms inference, 3.0ms postprocess per image at shape (1, 3, 384, 640)\n"
     ]
    },
    {
     "data": {
      "text/plain": [
       "'cats.jpg'"
      ]
     },
     "execution_count": 4,
     "metadata": {},
     "output_type": "execute_result"
    }
   ],
   "source": [
    "from ultralytics import YOLO\n",
    "\n",
    "# Load a model\n",
    "model = YOLO(\"yolov8n-seg.pt\")  # load an official model\n",
    "\n",
    "# Predict with the model\n",
    "results = model(r\"C:\\Users\\z230\\Downloads\\B1D3K+VdnWL.png\", show_boxes=False)  # predict on an image\n",
    "results[0].save('cats.jpg')"
   ]
  },
  {
   "cell_type": "code",
   "execution_count": 9,
   "metadata": {},
   "outputs": [
    {
     "name": "stdout",
     "output_type": "stream",
     "text": [
      "Ultralytics YOLOv8.2.79  Python-3.8.0 torch-2.2.1+cu118 CPU (Intel Core(TM) i5-4590 3.30GHz)\n",
      "\n",
      "\u001b[34m\u001b[1mPyTorch:\u001b[0m starting from 'yolov8n-seg.pt' with input shape (1, 3, 640, 640) BCHW and output shape(s) ((1, 116, 8400), (1, 32, 160, 160)) (6.7 MB)\n",
      "\n",
      "\u001b[34m\u001b[1mONNX:\u001b[0m starting export with onnx 1.16.1 opset 12...\n",
      "\u001b[34m\u001b[1mONNX:\u001b[0m export success  1.2s, saved as 'yolov8n-seg.onnx' (13.2 MB)\n",
      "\n",
      "Export complete (3.3s)\n",
      "Results saved to \u001b[1mD:\\Hung\\Projects\\GitHub\\ultralytics\u001b[0m\n",
      "Predict:         yolo predict task=segment model=yolov8n-seg.onnx imgsz=640  \n",
      "Validate:        yolo val task=segment model=yolov8n-seg.onnx imgsz=640 data=coco.yaml  \n",
      "Visualize:       https://netron.app\n"
     ]
    },
    {
     "data": {
      "text/plain": [
       "'yolov8n-seg.onnx'"
      ]
     },
     "execution_count": 9,
     "metadata": {},
     "output_type": "execute_result"
    }
   ],
   "source": [
    "# Export the model\n",
    "model.export(format=\"onnx\", opset=12)"
   ]
  },
  {
   "cell_type": "markdown",
   "metadata": {},
   "source": [
    "## Train model"
   ]
  },
  {
   "cell_type": "code",
   "execution_count": null,
   "metadata": {},
   "outputs": [],
   "source": [
    "from ultralytics import YOLO\n",
    "from utils import *\n",
    "\n",
    "model = YOLO(\"yolov8n-seg.yaml\").load(\"yolov8n.pt\")  # build from YAML and transfer weights\n",
    "\n",
    "currentDir = GetCurrentDir()\n",
    "dataConfig = os.path.join(currentDir, \"dataset\", \"shrimp\", \"data.yaml\")\n",
    "# Train the model\n",
    "results = model.train(data=dataConfig, epochs=300, imgsz=640, device=0, resume=True)"
   ]
  },
  {
   "cell_type": "markdown",
   "metadata": {},
   "source": [
    "## Test model"
   ]
  },
  {
   "cell_type": "code",
   "execution_count": 3,
   "metadata": {},
   "outputs": [
    {
     "name": "stdout",
     "output_type": "stream",
     "text": [
      "d:\\PROJECT\\GitHub\\THIGIACMAYTINH\\shrimp-segmentation\n",
      "\n",
      "image 1/1 d:\\PROJECT\\GitHub\\THIGIACMAYTINH\\shrimp-segmentation\\shrimp.jpg: 640x640 10 shrimps, 56.0ms\n",
      "Speed: 5.0ms preprocess, 56.0ms inference, 100.0ms postprocess per image at shape (1, 3, 640, 640)\n"
     ]
    },
    {
     "data": {
      "text/plain": [
       "'shrimp_output.jpg'"
      ]
     },
     "execution_count": 3,
     "metadata": {},
     "output_type": "execute_result"
    }
   ],
   "source": [
    "from ultralytics import YOLO\n",
    "from utils import *\n",
    "\n",
    "\n",
    "modelPath = os.path.join(GetCurrentDir(), \"runs\", \"segment\", \"train3\", \"weights\", \"best.pt\")\n",
    "model = YOLO(modelPath)\n",
    "\n",
    "# Predict with the model\n",
    "results = model(\"shrimp.jpg\")  # predict on an image\n",
    "results[0].save('shrimp_output.jpg')\n"
   ]
  },
  {
   "cell_type": "markdown",
   "metadata": {},
   "source": [
    "## Convert *.pt to *.onnx"
   ]
  },
  {
   "cell_type": "code",
   "execution_count": 1,
   "metadata": {},
   "outputs": [
    {
     "name": "stdout",
     "output_type": "stream",
     "text": [
      "Ultralytics YOLOv8.2.79  Python-3.8.0 torch-2.2.1+cu118 CPU (Intel Core(TM) i5-4590 3.30GHz)\n",
      "YOLOv8n-seg summary (fused): 195 layers, 3,258,259 parameters, 0 gradients, 12.0 GFLOPs\n",
      "\n",
      "\u001b[34m\u001b[1mPyTorch:\u001b[0m starting from 'D:\\Hung\\Projects\\GitHub\\ultralytics\\runs\\segment\\train6\\weights\\best.pt' with input shape (1, 3, 640, 640) BCHW and output shape(s) ((1, 37, 8400), (1, 32, 160, 160)) (6.5 MB)\n",
      "\u001b[31m\u001b[1mrequirements:\u001b[0m Ultralytics requirements ['onnx>=1.12.0', 'onnxslim>=0.1.31', 'onnxruntime'] not found, attempting AutoUpdate...\n",
      "Collecting onnx>=1.12.0\n",
      "  Downloading onnx-1.17.0-cp38-cp38-win_amd64.whl.metadata (16 kB)\n",
      "Collecting onnxslim>=0.1.31\n",
      "  Downloading onnxslim-0.1.35-py3-none-any.whl.metadata (3.0 kB)\n",
      "Collecting onnxruntime\n",
      "  Downloading onnxruntime-1.19.2-cp38-cp38-win_amd64.whl.metadata (4.7 kB)\n",
      "Requirement already satisfied: numpy>=1.20 in c:\\users\\z230\\appdata\\local\\programs\\python\\python38\\lib\\site-packages (from onnx>=1.12.0) (1.24.1)\n",
      "Collecting protobuf>=3.20.2 (from onnx>=1.12.0)\n",
      "  Downloading protobuf-5.28.2-cp38-cp38-win_amd64.whl.metadata (592 bytes)\n",
      "Requirement already satisfied: sympy in c:\\users\\z230\\appdata\\local\\programs\\python\\python38\\lib\\site-packages (from onnxslim>=0.1.31) (1.12)\n",
      "Requirement already satisfied: packaging in c:\\users\\z230\\appdata\\local\\programs\\python\\python38\\lib\\site-packages (from onnxslim>=0.1.31) (24.1)\n",
      "Collecting coloredlogs (from onnxruntime)\n",
      "  Downloading coloredlogs-15.0.1-py2.py3-none-any.whl.metadata (12 kB)\n",
      "Collecting flatbuffers (from onnxruntime)\n",
      "  Downloading flatbuffers-24.3.25-py2.py3-none-any.whl.metadata (850 bytes)\n",
      "Collecting humanfriendly>=9.1 (from coloredlogs->onnxruntime)\n",
      "  Downloading humanfriendly-10.0-py2.py3-none-any.whl.metadata (9.2 kB)\n",
      "Requirement already satisfied: mpmath>=0.19 in c:\\users\\z230\\appdata\\local\\programs\\python\\python38\\lib\\site-packages (from sympy->onnxslim>=0.1.31) (1.3.0)\n",
      "Collecting pyreadline3 (from humanfriendly>=9.1->coloredlogs->onnxruntime)\n",
      "  Downloading pyreadline3-3.5.4-py3-none-any.whl.metadata (4.7 kB)\n",
      "Downloading onnx-1.17.0-cp38-cp38-win_amd64.whl (14.5 MB)\n",
      "   ---------------------------------------- 14.5/14.5 MB 3.4 MB/s eta 0:00:00\n",
      "Downloading onnxslim-0.1.35-py3-none-any.whl (140 kB)\n",
      "Downloading onnxruntime-1.19.2-cp38-cp38-win_amd64.whl (11.1 MB)\n",
      "   ---------------------------------------- 11.1/11.1 MB 4.1 MB/s eta 0:00:00\n",
      "Downloading protobuf-5.28.2-cp38-cp38-win_amd64.whl (431 kB)\n",
      "Downloading coloredlogs-15.0.1-py2.py3-none-any.whl (46 kB)\n",
      "Downloading flatbuffers-24.3.25-py2.py3-none-any.whl (26 kB)\n",
      "Downloading humanfriendly-10.0-py2.py3-none-any.whl (86 kB)\n",
      "Downloading pyreadline3-3.5.4-py3-none-any.whl (83 kB)\n",
      "Installing collected packages: flatbuffers, pyreadline3, protobuf, onnx, humanfriendly, onnxslim, coloredlogs, onnxruntime\n",
      "Successfully installed coloredlogs-15.0.1 flatbuffers-24.3.25 humanfriendly-10.0 onnx-1.17.0 onnxruntime-1.19.2 onnxslim-0.1.35 protobuf-5.28.2 pyreadline3-3.5.4\n",
      "\n",
      "\u001b[31m\u001b[1mrequirements:\u001b[0m AutoUpdate success  33.7s, installed 3 packages: ['onnx>=1.12.0', 'onnxslim>=0.1.31', 'onnxruntime']\n",
      "\u001b[31m\u001b[1mrequirements:\u001b[0m  \u001b[1mRestart runtime or rerun command for updates to take effect\u001b[0m\n",
      "\n",
      "\n",
      "\u001b[34m\u001b[1mONNX:\u001b[0m starting export with onnx 1.17.0 opset 12...\n",
      "\u001b[34m\u001b[1mONNX:\u001b[0m slimming with onnxslim 0.1.35...\n",
      "\u001b[34m\u001b[1mONNX:\u001b[0m export success  37.3s, saved as 'D:\\Hung\\Projects\\GitHub\\ultralytics\\runs\\segment\\train6\\weights\\best.onnx' (12.7 MB)\n",
      "\n",
      "Export complete (41.1s)\n",
      "Results saved to \u001b[1mD:\\Hung\\Projects\\GitHub\\ultralytics\\runs\\segment\\train6\\weights\u001b[0m\n",
      "Predict:         yolo predict task=segment model=D:\\Hung\\Projects\\GitHub\\ultralytics\\runs\\segment\\train6\\weights\\best.onnx imgsz=640  \n",
      "Validate:        yolo val task=segment model=D:\\Hung\\Projects\\GitHub\\ultralytics\\runs\\segment\\train6\\weights\\best.onnx imgsz=640 data=D:\\Hung\\Projects\\GitHub\\ultralytics\\dataset\\shrimp\\data.yaml  \n",
      "Visualize:       https://netron.app\n"
     ]
    },
    {
     "data": {
      "text/plain": [
       "'D:\\\\Hung\\\\Projects\\\\GitHub\\\\ultralytics\\\\runs\\\\segment\\\\train6\\\\weights\\\\best.onnx'"
      ]
     },
     "execution_count": 1,
     "metadata": {},
     "output_type": "execute_result"
    }
   ],
   "source": [
    "from ultralytics import YOLO\n",
    "from utils import *\n",
    "\n",
    "modelPath = os.path.join(GetCurrentDir(), \"runs\", \"segment\", \"train3\", \"weights\", \"best.pt\")\n",
    "model = YOLO(modelPath)\n",
    "model.export(format=\"onnx\", opset=12, simplify=True, dynamic=False)"
   ]
  }
 ],
 "metadata": {
  "kernelspec": {
   "display_name": "Python 3",
   "language": "python",
   "name": "python3"
  },
  "language_info": {
   "codemirror_mode": {
    "name": "ipython",
    "version": 3
   },
   "file_extension": ".py",
   "mimetype": "text/x-python",
   "name": "python",
   "nbconvert_exporter": "python",
   "pygments_lexer": "ipython3",
   "version": "3.8.6"
  }
 },
 "nbformat": 4,
 "nbformat_minor": 2
}
