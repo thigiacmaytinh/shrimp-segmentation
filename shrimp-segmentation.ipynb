{
 "cells": [
  {
   "cell_type": "markdown",
   "metadata": {},
   "source": [
    "# Test with pretrain model"
   ]
  },
  {
   "cell_type": "code",
   "execution_count": null,
   "metadata": {},
   "outputs": [],
   "source": [
    "from ultralytics import YOLO\n",
    "from utils import *\n",
    "\n",
    "# Load a model\n",
    "model = YOLO(\"yolov8n-seg.pt\")  # load an official model\n",
    "\n",
    "# Predict with the model\n",
    "results = model(r\"cat.jpg\", show_boxes=False)  # predict on an image\n",
    "results[0].save('cat_out.jpg')"
   ]
  },
  {
   "cell_type": "markdown",
   "metadata": {},
   "source": [
    "## Train model"
   ]
  },
  {
   "cell_type": "code",
   "execution_count": null,
   "metadata": {},
   "outputs": [],
   "source": [
    "from ultralytics import YOLO\n",
    "from utils import *\n",
    "\n",
    "model = YOLO(\"yolov8n-seg.yaml\").load(\"yolov8n.pt\")  # build from YAML and transfer weights\n",
    "\n",
    "currentDir = GetCurrentDir()\n",
    "dataConfig = os.path.join(currentDir, \"dataset\", \"shrimp\", \"data.yaml\")\n",
    "# Train the model\n",
    "results = model.train(data=dataConfig, epochs=300, imgsz=640, device=0, resume=True)"
   ]
  },
  {
   "cell_type": "markdown",
   "metadata": {},
   "source": [
    "## Test model"
   ]
  },
  {
   "cell_type": "code",
   "execution_count": null,
   "metadata": {},
   "outputs": [],
   "source": [
    "from ultralytics import YOLO\n",
    "from utils import *\n",
    "\n",
    "\n",
    "modelPath = os.path.join(GetCurrentDir(), \"runs\", \"segment\", \"train3\", \"weights\", \"best.pt\")\n",
    "model = YOLO(modelPath)\n",
    "\n",
    "# Predict with the model\n",
    "results = model(\"shrimp.jpg\")  # predict on an image\n",
    "results[0].save('shrimp_output.jpg')\n"
   ]
  },
  {
   "cell_type": "markdown",
   "metadata": {},
   "source": [
    "## Convert *.pt to *.onnx"
   ]
  },
  {
   "cell_type": "code",
   "execution_count": null,
   "metadata": {},
   "outputs": [],
   "source": [
    "from ultralytics import YOLO\n",
    "from utils import *\n",
    "\n",
    "modelPath = os.path.join(GetCurrentDir(), \"runs\", \"segment\", \"train3\", \"weights\", \"best.pt\")\n",
    "model = YOLO(modelPath)\n",
    "model.export(format=\"onnx\", opset=12, simplify=True, dynamic=False)"
   ]
  }
 ],
 "metadata": {
  "kernelspec": {
   "display_name": "Python 3",
   "language": "python",
   "name": "python3"
  },
  "language_info": {
   "codemirror_mode": {
    "name": "ipython",
    "version": 3
   },
   "file_extension": ".py",
   "mimetype": "text/x-python",
   "name": "python",
   "nbconvert_exporter": "python",
   "pygments_lexer": "ipython3",
   "version": "3.8.6"
  }
 },
 "nbformat": 4,
 "nbformat_minor": 2
}
